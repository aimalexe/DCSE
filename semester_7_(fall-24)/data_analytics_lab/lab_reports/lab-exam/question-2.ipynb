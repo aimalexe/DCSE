{
 "cells": [
  {
   "cell_type": "markdown",
   "metadata": {},
   "source": [
    "# Data Analytics Lab Exam\n",
    "### Author: Aimal Khan (aimalexe)"
   ]
  },
  {
   "cell_type": "code",
   "execution_count": 1,
   "metadata": {},
   "outputs": [],
   "source": [
    "import numpy as np\n",
    "from scipy.stats import f"
   ]
  },
  {
   "cell_type": "code",
   "execution_count": 2,
   "metadata": {},
   "outputs": [],
   "source": [
    "def one_way_anova(data, alpha=0.05):\n",
    "    # Step 1: Organize the data\n",
    "    groups = list(data.keys())\n",
    "    observations = list(data.values())\n",
    "\n",
    "    # Step 2: Descriptive statistics\n",
    "    group_means = {group: np.mean(values) for group, values in data.items()}\n",
    "    total_observations = sum(len(values) for values in observations)\n",
    "    grand_mean = np.mean([value for values in observations for value in values])\n",
    "\n",
    "    # Step 3: Compute ANOVA\n",
    "    # Calculate SSB (Between-Group Variation)\n",
    "    ssb = sum(len(values) * (np.mean(values) - grand_mean) ** 2 for values in observations)\n",
    "\n",
    "    # Calculate SSW (Within-Group Variation)\n",
    "    ssw = sum(sum((value - np.mean(values)) ** 2 for value in values) for values in observations)\n",
    "\n",
    "    # Degrees of Freedom\n",
    "    df_between = len(groups) - 1\n",
    "    df_within = total_observations - len(groups)\n",
    "\n",
    "    # Mean Squares\n",
    "    ms_between = ssb / df_between\n",
    "    ms_within = ssw / df_within\n",
    "\n",
    "    # F-Statistic\n",
    "    f_statistic = ms_between / ms_within\n",
    "\n",
    "    # Step 4: Calculate p-value (using F-distribution)\n",
    "    p_value = 1 - f.cdf(f_statistic, df_between, df_within)\n",
    "\n",
    "    # Step 5: Determine F-critical value\n",
    "    f_critical = f.ppf(1 - alpha, df_between, df_within)\n",
    "\n",
    "    # Step 5: Hypothesis Test Conclusion\n",
    "    if f_statistic > f_critical:\n",
    "        conclusion = \"Reject H0: At least one group mean is significantly different.\"\n",
    "    else:\n",
    "        conclusion = \"Fail to Reject H0: No significant difference among group means.\"\n",
    "\n",
    "    # Step 8: Prepare detailed results\n",
    "    results = {\n",
    "        \"Group Means\": group_means,\n",
    "        \"Grand Mean\": grand_mean,\n",
    "        \"ANOVA Results\": {\n",
    "            \"SSB (Between-Group Variation)\": ssb,\n",
    "            \"SSW (Within-Group Variation)\": ssw,\n",
    "            \"F-statistic\": f_statistic,\n",
    "            \"p-value\": p_value,\n",
    "            \"F-critical\": f_critical,\n",
    "            \"Conclusion\": conclusion\n",
    "        }\n",
    "    }\n",
    "\n",
    "    return results"
   ]
  },
  {
   "cell_type": "code",
   "execution_count": 3,
   "metadata": {},
   "outputs": [],
   "source": [
    "def print_nested_dict(nested_dict):\n",
    "    \"\"\"\n",
    "    Prints a nested dictionary in a structured format with proper indentation for sub-dictionaries.\n",
    "\n",
    "    Parameters:\n",
    "    nested_dict (dict): The dictionary to be printed. Can contain sub-dictionaries.\n",
    "\n",
    "    Returns:\n",
    "    None\n",
    "    \"\"\"\n",
    "    for key, value in nested_dict.items():\n",
    "        if isinstance(value, dict):\n",
    "            print(f\"{key}:\")\n",
    "            for sub_key, sub_value in value.items():\n",
    "                print(f\"\\t{sub_key}: {sub_value}\")\n",
    "        else:\n",
    "            print(f\"{key}: {value}\")"
   ]
  },
  {
   "cell_type": "code",
   "execution_count": 4,
   "metadata": {},
   "outputs": [
    {
     "name": "stdout",
     "output_type": "stream",
     "text": [
      "Group Means:\n",
      "\tMethod 1: 79.59200000000001\n",
      "\tMethod 2: 82.40599999999999\n",
      "\tMethod 3: 81.55199999999999\n",
      "Grand Mean: 81.18333333333334\n",
      "ANOVA Results:\n",
      "\tSSB (Between-Group Variation): 20.815853333332996\n",
      "\tSSW (Within-Group Variation): 1146.0304800000001\n",
      "\tF-statistic: 0.10898062676308397\n",
      "\tp-value: 0.8976251557503221\n",
      "\tF-critical: 3.8852938346523946\n",
      "\tConclusion: Fail to Reject H0: No significant difference among group means.\n"
     ]
    }
   ],
   "source": [
    "teaching_data = {\n",
    "    \"Method 1\": [79.97,73.62, 81.48, 90.23, 72.66],\n",
    "    \"Method 2\": [72.78, 102.23, 79.84, 67.31, 89.87],\n",
    "    \"Method 3\": [81.17, 83.51, 76.15, 75.43, 91.50]\n",
    "}\n",
    "\n",
    "teaching_results = one_way_anova(teaching_data)\n",
    "print_nested_dict(teaching_results)"
   ]
  }
 ],
 "metadata": {
  "kernelspec": {
   "display_name": "Python 3",
   "language": "python",
   "name": "python3"
  },
  "language_info": {
   "codemirror_mode": {
    "name": "ipython",
    "version": 3
   },
   "file_extension": ".py",
   "mimetype": "text/x-python",
   "name": "python",
   "nbconvert_exporter": "python",
   "pygments_lexer": "ipython3",
   "version": "3.12.3"
  }
 },
 "nbformat": 4,
 "nbformat_minor": 2
}
