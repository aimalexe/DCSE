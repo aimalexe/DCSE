{
 "cells": [
  {
   "cell_type": "markdown",
   "metadata": {},
   "source": [
    "# Lab 5: Probabilities\n",
    "### Author: Aimal Khan (aimalexe)"
   ]
  },
  {
   "cell_type": "markdown",
   "metadata": {},
   "source": [
    "## Importing necessary libraries"
   ]
  },
  {
   "cell_type": "code",
   "execution_count": 101,
   "metadata": {},
   "outputs": [],
   "source": [
    "import math\n",
    "from scipy.stats import binom, hypergeom, geom, poisson\n",
    "import numpy as np"
   ]
  },
  {
   "cell_type": "markdown",
   "metadata": {},
   "source": [
    "## Task 1. Probability of an event given the number of favorable outcomes and total outcomes\n",
    "The probability of an event, given the number of favorable outcomes and the total number of possible outcomes, is calculated as:\n",
    "\n",
    "$$\n",
    "P(A) = \\frac{\\text{Number of favorable outcomes}}{\\text{Total number of outcomes}}\n",
    "$$\n",
    "\n",
    "where:\n",
    "- The **number of favorable outcomes** is the count of outcomes that result in the event occurring.\n",
    "- The **total number of outcomes** is the total count of all possible outcomes."
   ]
  },
  {
   "cell_type": "code",
   "execution_count": 102,
   "metadata": {},
   "outputs": [],
   "source": [
    "def probability(favorable_outcomes, total_outcomes):\n",
    "    \"\"\"\n",
    "    Calculate the probability of an event given the number of favorable outcomes \n",
    "    and the total number of outcomes.\n",
    "    \n",
    "    Parameters:\n",
    "    favorable_outcomes (int): Number of outcomes where the event occurs\n",
    "    total_outcomes (int): Total number of possible outcomes\n",
    "    \n",
    "    Returns:\n",
    "    float: Probability of the event occurring\n",
    "    \"\"\"\n",
    "    if total_outcomes == 0:\n",
    "        raise ValueError(\"The total number of outcomes must be greater than 0.\")\n",
    "    \n",
    "    # Calculate the probability of the event\n",
    "    return favorable_outcomes / total_outcomes"
   ]
  },
  {
   "cell_type": "markdown",
   "metadata": {},
   "source": [
    "### Example usage"
   ]
  },
  {
   "cell_type": "code",
   "execution_count": 103,
   "metadata": {},
   "outputs": [
    {
     "name": "stdout",
     "output_type": "stream",
     "text": [
      "Probability of an event: 0.3\n"
     ]
    }
   ],
   "source": [
    "print(\"Probability of an event:\", probability(3, 10))"
   ]
  },
  {
   "cell_type": "markdown",
   "metadata": {},
   "source": [
    "## Task 2. Probability of two independent events occurring\n",
    "For two independent events $A$ and $B$, the probability of both events occurring (i.e., $A$ and $B$ happening simultaneously) is given by the product of their individual probabilities:\n",
    "\n",
    "$$\n",
    "P(A \\cap B) = P(A) \\cdot P(B)\n",
    "$$\n",
    "\n",
    "where:\n",
    "- $P(A)$ is the probability of event $A$,\n",
    "- $P(B)$ is the probability of event $B$."
   ]
  },
  {
   "cell_type": "code",
   "execution_count": 104,
   "metadata": {},
   "outputs": [],
   "source": [
    "def independent_events_probability(p_a, p_b):\n",
    "    \"\"\"\n",
    "    Calculate the probability of two independent events A and B occurring.\n",
    "    \n",
    "    Parameters:\n",
    "    p_a (float): Probability of event A\n",
    "    p_b (float): Probability of event B\n",
    "    \n",
    "    Returns:\n",
    "    float: Probability of both events A and B occurring\n",
    "    \"\"\"\n",
    "    # Calculate the probability of both independent events occurring\n",
    "    return p_a * p_b"
   ]
  },
  {
   "cell_type": "markdown",
   "metadata": {},
   "source": [
    "### Example usage"
   ]
  },
  {
   "cell_type": "code",
   "execution_count": 105,
   "metadata": {},
   "outputs": [
    {
     "name": "stdout",
     "output_type": "stream",
     "text": [
      "Probability of two independent events: 0.2\n"
     ]
    }
   ],
   "source": [
    "print(\"Probability of two independent events:\", independent_events_probability(0.5, 0.4))"
   ]
  },
  {
   "cell_type": "markdown",
   "metadata": {},
   "source": [
    "## Task 3. Conditional probability of event A given event B\n",
    "The conditional probability of an event $A$ given an event $B$ is calculated using the formula:\n",
    "\n",
    "$$\n",
    "P(A | B) = \\frac{P(A \\cap B)}{P(B)}\n",
    "$$\n",
    "\n",
    "where:\n",
    "- $P(A | B)$ is the probability of $A$ occurring given that $B$ has occurred,\n",
    "- $P(A \\cap B)$ is the probability of both $A$ and $B$ occurring,\n",
    "- $P(B)$ is the probability of $B$ (assuming $P(B) > 0$)."
   ]
  },
  {
   "cell_type": "code",
   "execution_count": 106,
   "metadata": {},
   "outputs": [],
   "source": [
    "def conditional_probability(p_a_and_b, p_b):\n",
    "    \"\"\"\n",
    "    Calculate the conditional probability of event A given event B.\n",
    "    \n",
    "    Parameters:\n",
    "    p_a_and_b (float): Probability of both A and B occurring\n",
    "    p_b (float): Probability of event B\n",
    "    \n",
    "    Returns:\n",
    "    float: Conditional probability of A given B\n",
    "    \"\"\"\n",
    "    if p_b == 0:\n",
    "        raise ValueError(\"The probability of B (p_b) must be greater than 0.\")\n",
    "    \n",
    "    # Calculate the conditional probability\n",
    "    return p_a_and_b / p_b"
   ]
  },
  {
   "cell_type": "markdown",
   "metadata": {},
   "source": [
    "### Example usage"
   ]
  },
  {
   "cell_type": "code",
   "execution_count": 107,
   "metadata": {},
   "outputs": [
    {
     "name": "stdout",
     "output_type": "stream",
     "text": [
      "Conditional probability of A given B: 0.5\n"
     ]
    }
   ],
   "source": [
    "print(\"Conditional probability of A given B:\", conditional_probability(0.2, 0.4))"
   ]
  },
  {
   "cell_type": "markdown",
   "metadata": {},
   "source": [
    "## Task 4. Total probability of an event A given events B1, B2, ..., Bn\n",
    "The total probability of an event $A$given a set of mutually exclusive and collectively exhaustive events $B_1, B_2, \\ldots, B_n$is calculated using the **law of total probability**:\n",
    "\n",
    "$$\n",
    "P(A) = \\sum_{i=1}^{n} P(A | B_i) \\cdot P(B_i)\n",
    "$$\n",
    "\n",
    "where:\n",
    "- $P(A | B_i)$is the conditional probability of $A$given $B_i$,\n",
    "- $P(B_i)$is the probability of $B_i$,\n",
    "- The events $B_1, B_2, \\ldots, B_n$are mutually exclusive and collectively exhaustive, meaning exactly one of them occurs."
   ]
  },
  {
   "cell_type": "code",
   "execution_count": 108,
   "metadata": {},
   "outputs": [],
   "source": [
    "def total_probability(event_probabilities, conditional_probabilities):\n",
    "    \"\"\"\n",
    "    Calculate the total probability of an event A given mutually exclusive\n",
    "    and collectively exhaustive events B1, B2, ..., Bn.\n",
    "    \n",
    "    Parameters:\n",
    "    event_probabilities (list of float): Probabilities of events B1, B2, ..., Bn\n",
    "    conditional_probabilities (list of float): Conditional probabilities of A given B1, B2, ..., Bn\n",
    "    \n",
    "    Returns:\n",
    "    float: Total probability of event A\n",
    "    \"\"\"\n",
    "    # Calculate the total probability using the law of total probability\n",
    "    total_prob = sum(p_b * p_a_given_b for p_b, p_a_given_b in zip(event_probabilities, conditional_probabilities))\n",
    "    return total_prob"
   ]
  },
  {
   "cell_type": "markdown",
   "metadata": {},
   "source": [
    "### Example usage"
   ]
  },
  {
   "cell_type": "code",
   "execution_count": 109,
   "metadata": {},
   "outputs": [
    {
     "name": "stdout",
     "output_type": "stream",
     "text": [
      "Total probability of event A: 0.5599999999999999\n"
     ]
    }
   ],
   "source": [
    "probabilities_b = [0.3, 0.5, 0.2]\n",
    "conditional_probabilities_a_given_b = [0.8, 0.6, 0.1]\n",
    "print(\"Total probability of event A:\", total_probability(probabilities_b, conditional_probabilities_a_given_b))"
   ]
  },
  {
   "cell_type": "markdown",
   "metadata": {},
   "source": [
    "## Task 5. Binomial probability of getting exactly k successes in n trials\n",
    "\n",
    "Python function to calculate the binomial probability of getting exactly $k$ successes in $n$ trials, using the binomial probability formula:\n",
    "\n",
    "$$\n",
    "P(X = k) = \\binom{n}{k} p^k (1 - p)^{n - k}\n",
    "$$\n",
    "\n",
    "where:\n",
    "- $n$ is the number of trials,\n",
    "- $k$ is the number of successes,\n",
    "- $p$ is the probability of success on a single trial."
   ]
  },
  {
   "cell_type": "code",
   "execution_count": 110,
   "metadata": {},
   "outputs": [],
   "source": [
    "def binomial_probability(n, k, p):\n",
    "    \"\"\"\n",
    "    Calculate the binomial probability of getting exactly k successes in n trials.\n",
    "    \n",
    "    Parameters:\n",
    "    n (int): Number of trials\n",
    "    k (int): Number of successes\n",
    "    p (float): Probability of success on a single trial\n",
    "    \n",
    "    Returns:\n",
    "    float: Probability of getting exactly k successes in n trials\n",
    "    \"\"\"\n",
    "    # Calculate the probability using the binomial formula\n",
    "    return math.comb(n, k) * (p ** k) * ((1 - p) ** (n - k))\n",
    "    # return binom.pmf(k, n, p)"
   ]
  },
  {
   "cell_type": "markdown",
   "metadata": {},
   "source": [
    "### Example usage"
   ]
  },
  {
   "cell_type": "code",
   "execution_count": 111,
   "metadata": {},
   "outputs": [
    {
     "name": "stdout",
     "output_type": "stream",
     "text": [
      "Binomial probability of 3 successes in 5 trials: 0.3125\n"
     ]
    }
   ],
   "source": [
    "print(\"Binomial probability of 3 successes in 5 trials:\", binomial_probability(5, 3, 0.5))"
   ]
  },
  {
   "cell_type": "markdown",
   "metadata": {},
   "source": [
    "## Task 6. Hypergeometric probability of drawing k successes in draws without replacement\n",
    "The hypergeometric probability calculates the likelihood of drawing exactly $k$ successes in $n$ draws without replacement from a finite population. The formula for hypergeometric probability is:\n",
    "\n",
    "$$\n",
    "P(X = k) = \\frac{\\binom{K}{k} \\cdot \\binom{N - K}{n - k}}{\\binom{N}{n}}\n",
    "$$\n",
    "\n",
    "where:\n",
    "- $N$ is the population size,\n",
    "- $K$ is the number of successes in the population,\n",
    "- $n$ is the number of draws,\n",
    "- $k$ is the number of observed successes.\n"
   ]
  },
  {
   "cell_type": "code",
   "execution_count": 112,
   "metadata": {},
   "outputs": [],
   "source": [
    "def hypergeometric_probability(N, K, n, k):\n",
    "    \"\"\"\n",
    "    Calculate the hypergeometric probability of drawing exactly k successes\n",
    "    in n draws from a population of size N containing K successes.\n",
    "    \n",
    "    Parameters:\n",
    "    N (int): Total population size\n",
    "    K (int): Number of successes in the population\n",
    "    n (int): Number of draws\n",
    "    k (int): Number of observed successes in the draws\n",
    "    \n",
    "    Returns:\n",
    "    float: Probability of drawing exactly k successes in n draws\n",
    "    \"\"\"\n",
    "    # Calculate the probability using the hypergeometric formula\n",
    "    return (math.comb(K, k) * math.comb(N - K, n - k)) / math.comb(N, n)\n",
    "    # return hypergeom.pmf(k, N, K, n)"
   ]
  },
  {
   "cell_type": "markdown",
   "metadata": {},
   "source": [
    "### Example usage"
   ]
  },
  {
   "cell_type": "code",
   "execution_count": 113,
   "metadata": {},
   "outputs": [
    {
     "name": "stdout",
     "output_type": "stream",
     "text": [
      "Hypergeometric probability of 2 successes in 5 draws: 0.38738390092879255\n"
     ]
    }
   ],
   "source": [
    "print(\"Hypergeometric probability of 2 successes in 5 draws:\", hypergeometric_probability(20, 7, 5, 2))"
   ]
  },
  {
   "cell_type": "markdown",
   "metadata": {},
   "source": [
    "## Task 7. Geometric probability of the first success on the k-th trial\n",
    "The geometric probability of achieving the first success on the $k$-th trial is given by:\n",
    "\n",
    "$$\n",
    "P(X = k) = (1 - p)^{k - 1} \\cdot p\n",
    "$$\n",
    "\n",
    "where:\n",
    "- $p$ is the probability of success on a single trial,\n",
    "- $k$ is the trial number on which the first success occurs."
   ]
  },
  {
   "cell_type": "code",
   "execution_count": 114,
   "metadata": {},
   "outputs": [],
   "source": [
    "def geometric_probability(k, p):\n",
    "    \"\"\"\n",
    "    Calculate the geometric probability of getting the first success on the k-th trial.\n",
    "    \n",
    "    Parameters:\n",
    "    k (int): The trial number of the first success\n",
    "    p (float): Probability of success on each trial\n",
    "    \n",
    "    Returns:\n",
    "    float: Probability of getting the first success on the k-th trial\n",
    "    \"\"\"\n",
    "    # Calculate the probability using the geometric formula\n",
    "    return ((1 - p) ** (k - 1)) * p\n",
    "    # return geom.pmf(k, p)"
   ]
  },
  {
   "cell_type": "markdown",
   "metadata": {},
   "source": [
    "### Example usage"
   ]
  },
  {
   "cell_type": "code",
   "execution_count": 115,
   "metadata": {},
   "outputs": [
    {
     "name": "stdout",
     "output_type": "stream",
     "text": [
      "Geometric probability of first success on the 3rd trial: 0.125\n"
     ]
    }
   ],
   "source": [
    "print(\"Geometric probability of first success on the 3rd trial:\", geometric_probability(3, 0.5))"
   ]
  },
  {
   "cell_type": "markdown",
   "metadata": {},
   "source": [
    "## Task 8. Poisson probability of observing k events in a fixed interval with average rate λ\n",
    "The Poisson probability of observing exactly $k$ events in a fixed interval, given an average rate $\\lambda$ (the expected number of events in that interval), is given by:\n",
    "\n",
    "$$\n",
    "P(X = k) = \\frac{\\lambda^k e^{-\\lambda}}{k!}\n",
    "$$\n",
    "\n",
    "where:\n",
    "- $\\lambda$ is the average rate of events per interval,\n",
    "- $k$ is the number of events observed,\n",
    "- $e$ is the base of the natural logarithm (approximately 2.71828)."
   ]
  },
  {
   "cell_type": "code",
   "execution_count": 116,
   "metadata": {},
   "outputs": [],
   "source": [
    "def poisson_probability(k, lambda_):\n",
    "    \"\"\"\n",
    "    Calculate the Poisson probability of observing exactly k events \n",
    "    in a fixed interval with an average rate of lambda.\n",
    "    \n",
    "    Parameters:\n",
    "    k (int): Number of events observed\n",
    "    lambda_ (float): Average rate of events per interval\n",
    "    \n",
    "    Returns:\n",
    "    float: Probability of observing exactly k events\n",
    "    \"\"\"\n",
    "    # Calculate the probability using the Poisson formula\n",
    "    return (lambda_ ** k * math.exp(-lambda_)) / math.factorial(k)\n",
    "    # return poisson.pmf(k, lam)"
   ]
  },
  {
   "cell_type": "markdown",
   "metadata": {},
   "source": [
    "### Example usage"
   ]
  },
  {
   "cell_type": "code",
   "execution_count": 117,
   "metadata": {},
   "outputs": [
    {
     "name": "stdout",
     "output_type": "stream",
     "text": [
      "Poisson probability of observing 3 events: 0.21376301724973645\n"
     ]
    }
   ],
   "source": [
    "print(\"Poisson probability of observing 3 events:\", poisson_probability(3, 2.5))"
   ]
  }
 ],
 "metadata": {
  "kernelspec": {
   "display_name": "Python 3",
   "language": "python",
   "name": "python3"
  },
  "language_info": {
   "codemirror_mode": {
    "name": "ipython",
    "version": 3
   },
   "file_extension": ".py",
   "mimetype": "text/x-python",
   "name": "python",
   "nbconvert_exporter": "python",
   "pygments_lexer": "ipython3",
   "version": "3.12.3"
  }
 },
 "nbformat": 4,
 "nbformat_minor": 2
}
