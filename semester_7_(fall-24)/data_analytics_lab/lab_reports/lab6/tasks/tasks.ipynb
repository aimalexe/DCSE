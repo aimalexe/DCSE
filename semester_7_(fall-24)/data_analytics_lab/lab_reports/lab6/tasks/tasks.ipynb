{
 "cells": [
  {
   "cell_type": "markdown",
   "metadata": {},
   "source": [
    "# Lab 6: Hypothesis Testing and Confidence Intervals\n",
    "### Author: Aimal Khan (aimalexe)\n",
    "### Objective\n",
    "Perform various Z-tests and calculate a confidence interval using given sample data."
   ]
  },
  {
   "cell_type": "markdown",
   "metadata": {},
   "source": [
    "## Task 1: One-Sample Z-Test\n",
    "\n",
    "Given:\n",
    "- Population mean (μ) = 50\n",
    "- Sample mean ($\\bar{x}$) = 52\n",
    "- Sample standard deviation (s) = 10\n",
    "- Sample size (n) = 30\n",
    "\n",
    "We perform a one-sample Z-test to check if the sample mean significantly differs from the population mean.\n",
    "\n",
    "**Formula for Z-Test:**\n",
    "$$\n",
    " Z = \\frac{\\bar{x} - \\mu}{s / \\sqrt{n}}\n",
    "$$\n",
    "\n",
    "**Function Syntax:** `scipy.stats.norm.cdf(z)` to get the p-value."
   ]
  },
  {
   "cell_type": "code",
   "execution_count": 8,
   "metadata": {},
   "outputs": [
    {
     "name": "stdout",
     "output_type": "stream",
     "text": [
      "Z-score: 1.10\n",
      "P-value: 0.2733\n"
     ]
    }
   ],
   "source": [
    "from scipy.stats import norm\n",
    "\n",
    "# Given data\n",
    "population_mean = 50\n",
    "sample_mean = 52\n",
    "sample_std_dev = 10\n",
    "sample_size = 30\n",
    "\n",
    "# Calculate Z score\n",
    "z = (sample_mean - population_mean) / (sample_std_dev / (sample_size ** 0.5))\n",
    "p_value = 2 * (1 - norm.cdf(abs(z)))\n",
    "\n",
    "print(f\"Z-score: {z:.2f}\")\n",
    "print(f\"P-value: {p_value:.4f}\")"
   ]
  },
  {
   "cell_type": "markdown",
   "metadata": {},
   "source": [
    "## Task 2: Two-Sample Z-Test\n",
    "\n",
    "Given two independent samples:\n",
    "- Sample 1 mean = 60, standard deviation = 8, size = 40\n",
    "- Sample 2 mean = 55, standard deviation = 6, size = 35\n",
    "\n",
    "**Formula for Two-Sample Z-Test:**\n",
    "$$\n",
    " Z = \\frac{\\bar{x}_1 - \\bar{x}_2}{\\sqrt{\\frac{s_1^2}{n_1} + \\frac{s_2^2}{n_2}}}\n",
    "$$\n",
    "\n",
    "We calculate the Z-score and corresponding p-value."
   ]
  },
  {
   "cell_type": "code",
   "execution_count": 9,
   "metadata": {},
   "outputs": [
    {
     "name": "stdout",
     "output_type": "stream",
     "text": [
      "Z-score: 3.08\n",
      "P-value: 0.0020\n"
     ]
    }
   ],
   "source": [
    "# Given data for two samples\n",
    "mean1, std_dev1, size1 = 60, 8, 40\n",
    "mean2, std_dev2, size2 = 55, 6, 35\n",
    "\n",
    "# Calculate Z score\n",
    "z = (mean1 - mean2) / ((std_dev1**2 / size1 + std_dev2**2 / size2) ** 0.5)\n",
    "p_value = 2 * (1 - norm.cdf(abs(z)))\n",
    "\n",
    "print(f\"Z-score: {z:.2f}\")\n",
    "print(f\"P-value: {p_value:.4f}\")"
   ]
  },
  {
   "cell_type": "markdown",
   "metadata": {},
   "source": [
    "## Task 3: Z-Test for Proportion\n",
    "\n",
    "Given two samples:\n",
    "- Sample 1: 120 prefer online classes out of 200\n",
    "- Sample 2: 90 prefer online classes out of 150\n",
    "\n",
    "**Formula for Z-Test for Proportion:**\n",
    "$$\n",
    " Z = \\frac{p_1 - p_2}{\\sqrt{p(1 - p)(\\frac{1}{n_1} + \\frac{1}{n_2})}}\n",
    "$$\n",
    "where $p = \\frac{x_1 + x_2}{n_1 + n_2}$.\n"
   ]
  },
  {
   "cell_type": "code",
   "execution_count": 10,
   "metadata": {},
   "outputs": [
    {
     "name": "stdout",
     "output_type": "stream",
     "text": [
      "Z-score: 0.00\n",
      "P-value: 1.0000\n"
     ]
    }
   ],
   "source": [
    "# Given data for proportions\n",
    "x1, n1 = 120, 200\n",
    "x2, n2 = 90, 150\n",
    "\n",
    "# Calculate proportions\n",
    "p1 = x1 / n1\n",
    "p2 = x2 / n2\n",
    "p = (x1 + x2) / (n1 + n2)\n",
    "\n",
    "# Calculate Z score\n",
    "z = (p1 - p2) / ((p * (1 - p) * (1/n1 + 1/n2)) ** 0.5)\n",
    "p_value = 2 * (1 - norm.cdf(abs(z)))\n",
    "\n",
    "print(f\"Z-score: {z:.2f}\")\n",
    "print(f\"P-value: {p_value:.4f}\")"
   ]
  },
  {
   "cell_type": "markdown",
   "metadata": {},
   "source": [
    "## Task 4: Z-Test for Mean Life of Batteries\n",
    "\n",
    "A factory claims that the mean life of its batteries is 200 hours. Given:\n",
    "- Sample size = 36\n",
    "- Sample mean = 195\n",
    "- Population variance = 25\n",
    "\n",
    "**Formula for Z-Test:**\n",
    "$$\n",
    " Z = \\frac{\\bar{x} - \\mu}{\\sigma / \\sqrt{n}}\n",
    "$$\n",
    "where $\\sigma$ is the population standard deviation (square root of variance)."
   ]
  },
  {
   "cell_type": "code",
   "execution_count": 11,
   "metadata": {},
   "outputs": [
    {
     "name": "stdout",
     "output_type": "stream",
     "text": [
      "Z-score: -6.00\n",
      "P-value: 0.0000\n"
     ]
    }
   ],
   "source": [
    "# Given data\n",
    "population_mean = 200\n",
    "sample_mean = 195\n",
    "population_variance = 25\n",
    "sample_size = 36\n",
    "\n",
    "# Calculate Z score\n",
    "z = (sample_mean - population_mean) / ((population_variance ** 0.5) / (sample_size ** 0.5))\n",
    "p_value = 2 * (1 - norm.cdf(abs(z)))\n",
    "\n",
    "print(f\"Z-score: {z:.2f}\")\n",
    "print(f\"P-value: {p_value:.4f}\")"
   ]
  },
  {
   "cell_type": "markdown",
   "metadata": {},
   "source": [
    "## Task 5: Z-Test for Two Sample Means\n",
    "\n",
    "Given:\n",
    "- Sample 1: Mean = 70, Standard deviation = 5, Size = 25\n",
    "- Sample 2: Mean = 65, Standard deviation = 4, Size = 30\n",
    "\n",
    "Use the two-sample Z-test formula to compare means."
   ]
  },
  {
   "cell_type": "code",
   "execution_count": 12,
   "metadata": {},
   "outputs": [
    {
     "name": "stdout",
     "output_type": "stream",
     "text": [
      "Z-score: 4.04\n",
      "P-value: 0.0001\n"
     ]
    }
   ],
   "source": [
    "# Given data for two samples\n",
    "mean1, std_dev1, size1 = 70, 5, 25\n",
    "mean2, std_dev2, size2 = 65, 4, 30\n",
    "\n",
    "# Calculate Z score\n",
    "z = (mean1 - mean2) / ((std_dev1**2 / size1 + std_dev2**2 / size2) ** 0.5)\n",
    "p_value = 2 * (1 - norm.cdf(abs(z)))\n",
    "\n",
    "print(f\"Z-score: {z:.2f}\")\n",
    "print(f\"P-value: {p_value:.4f}\")"
   ]
  },
  {
   "cell_type": "markdown",
   "metadata": {},
   "source": [
    "## Task 6: Confidence Interval\n",
    "\n",
    "Calculate a 95% confidence interval for the mean using:\n",
    "- Sample mean = 80\n",
    "- Sample standard deviation = 10\n",
    "- Sample size = 30\n",
    "\n",
    "**Formula for Confidence Interval:**\n",
    "$$\n",
    " CI = \\bar{x} \\pm Z_{\\alpha/2} \\frac{s}{\\sqrt{n}}\n",
    "$$\n",
    "where $Z_{\\alpha/2}$ is the Z-score for a 95% confidence level (1.96)."
   ]
  },
  {
   "cell_type": "code",
   "execution_count": 13,
   "metadata": {},
   "outputs": [
    {
     "name": "stdout",
     "output_type": "stream",
     "text": [
      "95% Confidence Interval: (76.42154595763292, 83.57845404236708)\n"
     ]
    }
   ],
   "source": [
    "# Given data\n",
    "sample_mean = 80\n",
    "sample_std_dev = 10\n",
    "sample_size = 30\n",
    "z_score_95 = 1.96\n",
    "\n",
    "# Calculate confidence interval\n",
    "margin_of_error = z_score_95 * (sample_std_dev / (sample_size ** 0.5))\n",
    "confidence_interval = (sample_mean - margin_of_error, sample_mean + margin_of_error)\n",
    "\n",
    "print(f\"95% Confidence Interval: {confidence_interval}\")"
   ]
  },
  {
   "cell_type": "markdown",
   "metadata": {},
   "source": [
    "## Task 7: One-Sample Z-Test for Mean Weight\n",
    "\n",
    "Given:\n",
    "- Sample size = 1000\n",
    "- Sample mean = 160\n",
    "- Sample standard deviation = 20\n",
    "- Population mean = 158\n",
    "\n",
    "We perform a one-sample Z-test to check if the mean weight significantly differs from 158 lbs."
   ]
  },
  {
   "cell_type": "code",
   "execution_count": 14,
   "metadata": {},
   "outputs": [
    {
     "name": "stdout",
     "output_type": "stream",
     "text": [
      "Z-score: 3.16\n",
      "P-value: 0.0016\n"
     ]
    }
   ],
   "source": [
    "# Given data\n",
    "population_mean = 158\n",
    "sample_mean = 160\n",
    "sample_std_dev = 20\n",
    "sample_size = 1000\n",
    "\n",
    "# Calculate Z score\n",
    "z = (sample_mean - population_mean) / (sample_std_dev / (sample_size ** 0.5))\n",
    "p_value = 2 * (1 - norm.cdf(abs(z)))\n",
    "\n",
    "print(f\"Z-score: {z:.2f}\")\n",
    "print(f\"P-value: {p_value:.4f}\")"
   ]
  }
 ],
 "metadata": {
  "kernelspec": {
   "display_name": "Python 3",
   "language": "python",
   "name": "python3"
  },
  "language_info": {
   "codemirror_mode": {
    "name": "ipython",
    "version": 3
   },
   "file_extension": ".py",
   "mimetype": "text/x-python",
   "name": "python",
   "nbconvert_exporter": "python",
   "pygments_lexer": "ipython3",
   "version": "3.12.3"
  }
 },
 "nbformat": 4,
 "nbformat_minor": 4
}
