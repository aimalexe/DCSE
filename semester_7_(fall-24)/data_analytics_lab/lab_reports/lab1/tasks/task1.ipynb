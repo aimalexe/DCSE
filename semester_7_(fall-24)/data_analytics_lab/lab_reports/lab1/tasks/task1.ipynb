{
 "cells": [
  {
   "cell_type": "markdown",
   "metadata": {},
   "source": [
    "# Lab 1 Task 1\n",
    "### Author: Aimal Khan (aimalexe)\n",
    "### Objective\n",
    "Learn the basics of NumPy arrays and simple operations."
   ]
  },
  {
   "cell_type": "markdown",
   "metadata": {},
   "source": [
    "#### Task 1.1: Create a 1D NumPy array with numbers from 1 to 20.\n",
    "**Approach**: We can use the `numpy.arange` function to create a 1D array that starts at 1 and ends at 20."
   ]
  },
  {
   "cell_type": "code",
   "execution_count": 1,
   "metadata": {},
   "outputs": [
    {
     "name": "stdout",
     "output_type": "stream",
     "text": [
      "1D Array: [ 1  2  3  4  5  6  7  8  9 10 11 12 13 14 15 16 17 18 19 20]\n"
     ]
    }
   ],
   "source": [
    "import numpy as np\n",
    "\n",
    "# Task 1.1: Create a 1D NumPy array from 1 to 20\n",
    "array_1d = np.arange(1, 21)\n",
    "print(\"1D Array:\", array_1d)"
   ]
  },
  {
   "cell_type": "markdown",
   "metadata": {},
   "source": [
    "#### Task 1.2: Create a 2D array of shape (3, 5) using random integers between 10 and 50.\n",
    "**Approach**: Use `numpy.random.randint` to generate random integers and specify the shape as (3, 5) while setting the range from 10 to 50."
   ]
  },
  {
   "cell_type": "code",
   "execution_count": 2,
   "metadata": {},
   "outputs": [
    {
     "name": "stdout",
     "output_type": "stream",
     "text": [
      "2D Array:\n",
      " [[40 47 23 43 41]\n",
      " [12 45 29 29 42]\n",
      " [30 26 25 27 28]]\n"
     ]
    }
   ],
   "source": [
    "# Task 1.2: Create a 2D array with random integers\n",
    "array_2d = np.random.randint(10, 50, size=(3, 5))\n",
    "print(\"2D Array:\\n\", array_2d)"
   ]
  },
  {
   "cell_type": "markdown",
   "metadata": {},
   "source": [
    "#### Task 1.3: Extract the first and third rows of the 2D array.\n",
    "**Approach**: Use array slicing to select the first and third rows of the 2D array."
   ]
  },
  {
   "cell_type": "code",
   "execution_count": 3,
   "metadata": {},
   "outputs": [
    {
     "name": "stdout",
     "output_type": "stream",
     "text": [
      "First and Third Rows:\n",
      " [[40 47 23 43 41]\n",
      " [30 26 25 27 28]]\n"
     ]
    }
   ],
   "source": [
    "# Task 1.3: Extract the first and third rows\n",
    "first_and_third_rows = array_2d[[0, 2], :]\n",
    "print(\"First and Third Rows:\\n\", first_and_third_rows)"
   ]
  },
  {
   "cell_type": "markdown",
   "metadata": {},
   "source": [
    "#### Task 1.4: Calculate the sum, mean, minimum, and maximum of the entire 2D array.\n",
    "**Approach**: Use NumPy functions like `sum`, `mean`, `min`, and `max` to calculate these values for the array."
   ]
  },
  {
   "cell_type": "code",
   "execution_count": 4,
   "metadata": {},
   "outputs": [
    {
     "name": "stdout",
     "output_type": "stream",
     "text": [
      "Sum of 2D Array: 487\n",
      "Mean of 2D Array: 32.46666666666667\n",
      "Minimum of 2D Array: 12\n",
      "Maximum of 2D Array: 47\n"
     ]
    }
   ],
   "source": [
    "# Task 1.4: Calculate sum, mean, min, and max\n",
    "sum_of_array = array_2d.sum()\n",
    "mean_of_array = array_2d.mean()\n",
    "min_of_array = array_2d.min()\n",
    "max_of_array = array_2d.max()\n",
    "\n",
    "print(\"Sum of 2D Array:\", sum_of_array)\n",
    "print(\"Mean of 2D Array:\", mean_of_array)\n",
    "print(\"Minimum of 2D Array:\", min_of_array)\n",
    "print(\"Maximum of 2D Array:\", max_of_array)"
   ]
  },
  {
   "cell_type": "markdown",
   "metadata": {},
   "source": [
    "#### Task 1.5: Reshape the 1D array into a 4x5 matrix.\n",
    "**Approach**: Use the `reshape` method on the 1D array to convert it to a 4x5 matrix."
   ]
  },
  {
   "cell_type": "code",
   "execution_count": 5,
   "metadata": {},
   "outputs": [
    {
     "name": "stdout",
     "output_type": "stream",
     "text": [
      "Reshaped 4x5 Matrix:\n",
      " [[ 1  2  3  4  5]\n",
      " [ 6  7  8  9 10]\n",
      " [11 12 13 14 15]\n",
      " [16 17 18 19 20]]\n"
     ]
    }
   ],
   "source": [
    "# Task 1.5: Reshape the 1D array to 4x5\n",
    "array_1d_reshaped = array_1d.reshape(4, 5)\n",
    "print(\"Reshaped 4x5 Matrix:\\n\", array_1d_reshaped)"
   ]
  }
 ],
 "metadata": {
  "kernelspec": {
   "display_name": "Python 3",
   "language": "python",
   "name": "python3"
  },
  "language_info": {
   "codemirror_mode": {
    "name": "ipython",
    "version": 3
   },
   "file_extension": ".py",
   "mimetype": "text/x-python",
   "name": "python",
   "nbconvert_exporter": "python",
   "pygments_lexer": "ipython3",
   "version": "3.12.3"
  }
 },
 "nbformat": 4,
 "nbformat_minor": 4
}
