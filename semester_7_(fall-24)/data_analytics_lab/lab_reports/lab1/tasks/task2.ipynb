{
 "cells": [
  {
   "cell_type": "markdown",
   "metadata": {},
   "source": [
    "# Lab 1 Task 2\n",
    "### Author: Aimal Khan (aimalexe)\n",
    "\n",
    "### Objective\n",
    "Practice element-wise operations and array manipulations."
   ]
  },
  {
   "cell_type": "markdown",
   "metadata": {},
   "source": [
    "#### Task 2.1: Create two random 3x3 matrices.\n",
    "**Approach**: Use `numpy.random.rand` to create two random matrices with a shape of (3, 3). This function generates random numbers between 0 and 1.\n",
    "\n",
    "```python\n",
    "np.random.rand(rows, columns)\n",
    "```"
   ]
  },
  {
   "cell_type": "code",
   "execution_count": 6,
   "metadata": {},
   "outputs": [
    {
     "name": "stdout",
     "output_type": "stream",
     "text": [
      "Matrix A:\n",
      " [[0.06769002 0.38339775 0.49586742]\n",
      " [0.66616006 0.98338841 0.8797098 ]\n",
      " [0.65180926 0.68606734 0.18619086]]\n",
      "Matrix B:\n",
      " [[0.29482627 0.56888703 0.15289426]\n",
      " [0.48578452 0.32034539 0.8549781 ]\n",
      " [0.19862493 0.58508595 0.40163301]]\n"
     ]
    }
   ],
   "source": [
    "import numpy as np\n",
    "\n",
    "# Task 2.1: Create two random 3x3 matrices\n",
    "matrix_a = np.random.rand(3, 3)\n",
    "matrix_b = np.random.rand(3, 3)\n",
    "print(\"Matrix A:\\n\", matrix_a)\n",
    "print(\"Matrix B:\\n\", matrix_b)"
   ]
  },
  {
   "cell_type": "markdown",
   "metadata": {},
   "source": [
    "#### Task 2.2: Perform element-wise operations (addition, subtraction, multiplication, division).\n",
    "**Approach**:\n",
    "- For addition, use `+` or `np.add(array1, array2)`.\n",
    "- For subtraction, use `-` or `np.subtract(array1, array2)`.\n",
    "- For multiplication, use `*` or `np.multiply(array1, array2)`.\n",
    "- For division, use `/` or `np.divide(array1, array2)`.\n",
    "\n",
    "```python\n",
    "np.add(matrix_a, matrix_b)\n",
    "np.subtract(matrix_a, matrix_b)\n",
    "np.multiply(matrix_a, matrix_b)\n",
    "np.divide(matrix_a, matrix_b)\n",
    "```"
   ]
  },
  {
   "cell_type": "code",
   "execution_count": 7,
   "metadata": {},
   "outputs": [
    {
     "name": "stdout",
     "output_type": "stream",
     "text": [
      "Addition:\n",
      " [[0.36251629 0.95228478 0.64876169]\n",
      " [1.15194459 1.30373379 1.7346879 ]\n",
      " [0.85043419 1.27115329 0.58782387]]\n",
      "Subtraction:\n",
      " [[-0.22713626 -0.18548928  0.34297316]\n",
      " [ 0.18037554  0.66304302  0.02473171]\n",
      " [ 0.45318433  0.1009814  -0.21544215]]\n",
      "Multiplication:\n",
      " [[0.0199568  0.21811001 0.07581529]\n",
      " [0.32361025 0.31502394 0.75213261]\n",
      " [0.12946557 0.40140836 0.07478039]]\n",
      "Division:\n",
      " [[0.22959289 0.67394355 3.24320487]\n",
      " [1.37130771 3.06977547 1.02892671]\n",
      " [3.28160854 1.17259242 0.46358455]]\n"
     ]
    }
   ],
   "source": [
    "# Task 2.2: Element-wise operations\n",
    "addition = np.add(matrix_a, matrix_b)\n",
    "subtraction = np.subtract(matrix_a, matrix_b)\n",
    "multiplication = np.multiply(matrix_a, matrix_b)\n",
    "division = np.divide(matrix_a, matrix_b)\n",
    "\n",
    "print(\"Addition:\\n\", addition)\n",
    "print(\"Subtraction:\\n\", subtraction)\n",
    "print(\"Multiplication:\\n\", multiplication)\n",
    "print(\"Division:\\n\", division)"
   ]
  },
  {
   "cell_type": "markdown",
   "metadata": {},
   "source": [
    "#### Task 2.3: Multiply one of the matrices by a scalar (e.g., multiply by 5).\n",
    "**Approach**: Use the `*` operator to multiply a matrix by a scalar. This operation will multiply each element in the matrix by the scalar value.\n",
    "\n",
    "```python\n",
    "matrix * scalar\n",
    "```"
   ]
  },
  {
   "cell_type": "code",
   "execution_count": 8,
   "metadata": {},
   "outputs": [
    {
     "name": "stdout",
     "output_type": "stream",
     "text": [
      "Matrix A multiplied by 5:\n",
      " [[0.33845008 1.91698874 2.47933712]\n",
      " [3.33080031 4.91694203 4.39854901]\n",
      " [3.25904629 3.43033672 0.93095428]]\n"
     ]
    }
   ],
   "source": [
    "# Task 2.3: Multiply matrix_a by a scalar (5)\n",
    "scalar_multiplication = matrix_a * 5\n",
    "print(\"Matrix A multiplied by 5:\\n\", scalar_multiplication)"
   ]
  },
  {
   "cell_type": "markdown",
   "metadata": {},
   "source": [
    "#### Task 2.4: Transpose one of the matrices.\n",
    "**Approach**: Use the `transpose` method or `.T` attribute to get the transpose of a matrix. Transposing swaps the rows and columns.\n",
    "\n",
    "```python\n",
    "matrix.T\n",
    "np.transpose(matrix)\n",
    "```"
   ]
  },
  {
   "cell_type": "code",
   "execution_count": 9,
   "metadata": {},
   "outputs": [
    {
     "name": "stdout",
     "output_type": "stream",
     "text": [
      "Transpose of Matrix B:\n",
      " [[0.29482627 0.48578452 0.19862493]\n",
      " [0.56888703 0.32034539 0.58508595]\n",
      " [0.15289426 0.8549781  0.40163301]]\n"
     ]
    }
   ],
   "source": [
    "# Task 2.4: Transpose matrix_b\n",
    "transpose_b = matrix_b.T\n",
    "print(\"Transpose of Matrix B:\\n\", transpose_b)"
   ]
  },
  {
   "cell_type": "markdown",
   "metadata": {},
   "source": [
    "#### Task 2.5: Calculate the dot product of the two matrices.\n",
    "**Approach**: Use `np.dot(matrix_a, matrix_b)` to compute the dot product. This function multiplies the rows of the first matrix by the columns of the second matrix and sums up the results.\n",
    "\n",
    "```python\n",
    "np.dot(matrix_a, matrix_b)\n",
    "```"
   ]
  },
  {
   "cell_type": "code",
   "execution_count": 10,
   "metadata": {},
   "outputs": [
    {
     "name": "stdout",
     "output_type": "stream",
     "text": [
      "Dot Product of Matrix A and Matrix B:\n",
      " [[0.30469712 0.45145273 0.53730282]\n",
      " [0.84884865 1.2086996  1.29594809]\n",
      " [0.56243354 0.699522   0.76101084]]\n"
     ]
    }
   ],
   "source": [
    "# Task 2.5: Calculate dot product of matrix_a and matrix_b\n",
    "dot_product = np.dot(matrix_a, matrix_b)\n",
    "print(\"Dot Product of Matrix A and Matrix B:\\n\", dot_product)"
   ]
  }
 ],
 "metadata": {
  "kernelspec": {
   "display_name": "Python 3",
   "language": "python",
   "name": "python3"
  },
  "language_info": {
   "codemirror_mode": {
    "name": "ipython",
    "version": 3
   },
   "file_extension": ".py",
   "mimetype": "text/x-python",
   "name": "python",
   "nbconvert_exporter": "python",
   "pygments_lexer": "ipython3",
   "version": "3.12.3"
  }
 },
 "nbformat": 4,
 "nbformat_minor": 4
}
