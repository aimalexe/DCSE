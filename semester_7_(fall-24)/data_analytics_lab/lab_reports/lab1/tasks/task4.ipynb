{
 "cells": [
  {
   "cell_type": "markdown",
   "metadata": {},
   "source": [
    "# Lab 1 Task 4\n",
    "### Author: Aimal Khan (aimalexe)\n",
    "### Objective\n",
    "Explore NumPy's linear algebra capabilities and advanced operations."
   ]
  },
  {
   "cell_type": "markdown",
   "metadata": {},
   "source": [
    "#### Task 4.1: Create a random 4x4 matrix and compute its:\n",
    "- Determinant\n",
    "- Inverse\n",
    "- Eigenvalues and eigenvectors\n",
    "\n",
    "**Approach**: We will generate a 4x4 matrix using `np.random.rand` and perform the following operations:\n",
    "\n",
    "1. **Determinant**: Use `np.linalg.det(matrix)` to compute the determinant.\n",
    "\n",
    "    ```python\n",
    "    determinant = np.linalg.det(matrix)\n",
    "    ```\n",
    "\n",
    "2. **Inverse**: Use `np.linalg.inv(matrix)` to compute the inverse.\n",
    "\n",
    "    ```python\n",
    "    inverse = np.linalg.inv(matrix)\n",
    "    ```\n",
    "\n",
    "3. **Eigenvalues and Eigenvectors**: Use `np.linalg.eig(matrix)` to get both the eigenvalues and eigenvectors.\n",
    "\n",
    "    ```python\n",
    "    eigenvalues, eigenvectors = np.linalg.eig(matrix)\n",
    "    ```"
   ]
  },
  {
   "cell_type": "code",
   "execution_count": 1,
   "metadata": {},
   "outputs": [
    {
     "name": "stdout",
     "output_type": "stream",
     "text": [
      "4x4 Matrix:\n",
      " [[0.62803107 0.13122228 0.28486625 0.24487221]\n",
      " [0.71749401 0.01007495 0.75960065 0.34862019]\n",
      " [0.39527651 0.5190024  0.29292481 0.99144668]\n",
      " [0.16837695 0.5498264  0.42437333 0.07672214]]\n"
     ]
    }
   ],
   "source": [
    "import numpy as np\n",
    "\n",
    "# Task 4.1: Create a random 4x4 matrix\n",
    "matrix = np.random.rand(4, 4)\n",
    "print(\"4x4 Matrix:\\n\", matrix)"
   ]
  },
  {
   "cell_type": "markdown",
   "metadata": {},
   "source": [
    "#### Calculate the Determinant\n",
    "Use `np.linalg.det(matrix)` to calculate the determinant of the matrix."
   ]
  },
  {
   "cell_type": "code",
   "execution_count": 2,
   "metadata": {},
   "outputs": [
    {
     "name": "stdout",
     "output_type": "stream",
     "text": [
      "Determinant: 0.14569982714441201\n"
     ]
    }
   ],
   "source": [
    "# Determinant of the matrix\n",
    "determinant = np.linalg.det(matrix)\n",
    "print(\"Determinant:\", determinant)"
   ]
  },
  {
   "cell_type": "markdown",
   "metadata": {},
   "source": [
    "#### Calculate the Inverse\n",
    "Use `np.linalg.inv(matrix)` to compute the inverse of the matrix."
   ]
  },
  {
   "cell_type": "code",
   "execution_count": 3,
   "metadata": {},
   "outputs": [
    {
     "name": "stdout",
     "output_type": "stream",
     "text": [
      "Inverse of the Matrix:\n",
      " [[ 2.74847969 -0.72873855 -0.40224282 -0.26290985]\n",
      " [ 0.96569912 -1.25059572  0.08258267  1.53324367]\n",
      " [-2.16798523  1.83665724 -0.15944226  0.63426319]\n",
      " [-0.96077074  0.40255614  1.17287309 -0.88519787]]\n"
     ]
    }
   ],
   "source": [
    "# Inverse of the matrix\n",
    "inverse = np.linalg.inv(matrix)\n",
    "print(\"Inverse of the Matrix:\\n\", inverse)"
   ]
  },
  {
   "cell_type": "markdown",
   "metadata": {},
   "source": [
    "#### Calculate Eigenvalues and Eigenvectors\n",
    "Use `np.linalg.eig(matrix)` to compute the eigenvalues and eigenvectors."
   ]
  },
  {
   "cell_type": "code",
   "execution_count": 4,
   "metadata": {},
   "outputs": [
    {
     "name": "stdout",
     "output_type": "stream",
     "text": [
      "Eigenvalues: [ 1.61237594+0.j          0.32074955+0.j         -0.46268626+0.26009087j\n",
      " -0.46268626-0.26009087j]\n",
      "Eigenvectors:\n",
      " [[-0.35860447+0.00000000e+00j -0.76285324+0.00000000e+00j\n",
      "  -0.06392473+4.80049360e-05j -0.06392473-4.80049360e-05j]\n",
      " [-0.54987477+0.00000000e+00j -0.0389589 +0.00000000e+00j\n",
      "  -0.66870434+0.00000000e+00j -0.66870434-0.00000000e+00j]\n",
      " [-0.63255004+0.00000000e+00j  0.54862046+0.00000000e+00j\n",
      "   0.38930379-4.24281473e-01j  0.38930379+4.24281473e-01j]\n",
      " [-0.41100003+0.00000000e+00j  0.33993048+0.00000000e+00j\n",
      "   0.19014294+4.25466316e-01j  0.19014294-4.25466316e-01j]]\n"
     ]
    }
   ],
   "source": [
    "# Eigenvalues and Eigenvectors of the matrix\n",
    "eigenvalues, eigenvectors = np.linalg.eig(matrix)\n",
    "print(\"Eigenvalues:\", eigenvalues)\n",
    "print(\"Eigenvectors:\\n\", eigenvectors)"
   ]
  }
 ],
 "metadata": {
  "kernelspec": {
   "display_name": "Python 3",
   "language": "python",
   "name": "python3"
  },
  "language_info": {
   "codemirror_mode": {
    "name": "ipython",
    "version": 3
   },
   "file_extension": ".py",
   "mimetype": "text/x-python",
   "name": "python",
   "nbconvert_exporter": "python",
   "pygments_lexer": "ipython3",
   "version": "3.12.3"
  }
 },
 "nbformat": 4,
 "nbformat_minor": 4
}
