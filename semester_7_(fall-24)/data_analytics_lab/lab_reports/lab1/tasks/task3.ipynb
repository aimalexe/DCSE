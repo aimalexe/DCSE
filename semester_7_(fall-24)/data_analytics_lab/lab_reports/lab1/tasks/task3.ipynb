{
 "cells": [
  {
   "cell_type": "markdown",
   "metadata": {},
   "source": [
    "# Lab 1 Task 3\n",
    "### Author: Aimal Khan (aimalexe)\n",
    "\n",
    "### Objective\n",
    "Apply filtering and Boolean indexing techniques to extract and modify data."
   ]
  },
  {
   "cell_type": "markdown",
   "metadata": {},
   "source": [
    "#### Task 3.1: Create a NumPy array of 15 random integers between 1 and 100.\n",
    "**Approach**: Use `numpy.random.randint` to create an array of 15 random integers, specifying the range from 1 to 100.\n",
    "\n",
    "```python\n",
    "np.random.randint(low, high, size)\n",
    "```"
   ]
  },
  {
   "cell_type": "code",
   "execution_count": 1,
   "metadata": {},
   "outputs": [
    {
     "name": "stdout",
     "output_type": "stream",
     "text": [
      "Array: [63 20 64 97 52 12 21 40 30 41 55 38 18 61 17]\n"
     ]
    }
   ],
   "source": [
    "import numpy as np\n",
    "\n",
    "# Task 3.1: Create an array of 15 random integers between 1 and 100\n",
    "array = np.random.randint(1, 100, 15)\n",
    "print(\"Array:\", array)"
   ]
  },
  {
   "cell_type": "markdown",
   "metadata": {},
   "source": [
    "#### Task 3.2: Find all the values greater than 50 and return their indices.\n",
    "**Approach**: Use Boolean indexing to identify values greater than 50 and `np.where` to get their indices.\n",
    "\n",
    "```python\n",
    "np.where(array > 50)\n",
    "```"
   ]
  },
  {
   "cell_type": "code",
   "execution_count": 2,
   "metadata": {},
   "outputs": [
    {
     "name": "stdout",
     "output_type": "stream",
     "text": [
      "Indices of values > 50: [ 0  2  3  4 10 13]\n"
     ]
    }
   ],
   "source": [
    "# Task 3.2: Find indices of values greater than 50\n",
    "indices_greater_than_50 = np.where(array > 50)[0]\n",
    "print(\"Indices of values > 50:\", indices_greater_than_50)"
   ]
  },
  {
   "cell_type": "markdown",
   "metadata": {},
   "source": [
    "#### Task 3.3: Create a mask to filter out the elements that are divisible by 3.\n",
    "**Approach**: Use the modulus operator `%` to create a Boolean mask for elements divisible by 3.\n",
    "\n",
    "```python\n",
    "mask = array % 3 != 0\n",
    "filtered_array = array[mask]\n",
    "```"
   ]
  },
  {
   "cell_type": "code",
   "execution_count": 3,
   "metadata": {},
   "outputs": [
    {
     "name": "stdout",
     "output_type": "stream",
     "text": [
      "Filtered Array (not divisible by 3): [20 64 97 52 40 41 55 38 61 17]\n"
     ]
    }
   ],
   "source": [
    "# Task 3.3: Filter elements not divisible by 3\n",
    "mask_divisible_by_3 = array % 3 != 0\n",
    "filtered_array = array[mask_divisible_by_3]\n",
    "print(\"Filtered Array (not divisible by 3):\", filtered_array)"
   ]
  },
  {
   "cell_type": "markdown",
   "metadata": {},
   "source": [
    "#### Task 3.4: Replace all values less than 20 in the array with -1.\n",
    "**Approach**: Use Boolean indexing to select values less than 20 and replace them with -1.\n",
    "\n",
    "```python\n",
    "array[array < 20] = -1\n",
    "```"
   ]
  },
  {
   "cell_type": "code",
   "execution_count": 4,
   "metadata": {},
   "outputs": [
    {
     "name": "stdout",
     "output_type": "stream",
     "text": [
      "Array after replacing values < 20 with -1: [63 20 64 97 52 -1 21 40 30 41 55 38 -1 61 -1]\n"
     ]
    }
   ],
   "source": [
    "# Task 3.4: Replace values less than 20 with -1\n",
    "array[array < 20] = -1\n",
    "print(\"Array after replacing values < 20 with -1:\", array)"
   ]
  },
  {
   "cell_type": "markdown",
   "metadata": {},
   "source": [
    "#### Task 3.5: Find the mean of all the values greater than 50.\n",
    "**Approach**: Use Boolean indexing to select values greater than 50, then apply the `mean` function to calculate the average.\n",
    "\n",
    "```python\n",
    "mean_value = array[array > 50].mean()\n",
    "```"
   ]
  },
  {
   "cell_type": "code",
   "execution_count": 5,
   "metadata": {},
   "outputs": [
    {
     "name": "stdout",
     "output_type": "stream",
     "text": [
      "Mean of values > 50: 65.33333333333333\n"
     ]
    }
   ],
   "source": [
    "# Task 3.5: Calculate the mean of values greater than 50\n",
    "mean_greater_than_50 = array[array > 50].mean()\n",
    "print(\"Mean of values > 50:\", mean_greater_than_50)"
   ]
  }
 ],
 "metadata": {
  "kernelspec": {
   "display_name": "Python 3",
   "language": "python",
   "name": "python3"
  },
  "language_info": {
   "codemirror_mode": {
    "name": "ipython",
    "version": 3
   },
   "file_extension": ".py",
   "mimetype": "text/x-python",
   "name": "python",
   "nbconvert_exporter": "python",
   "pygments_lexer": "ipython3",
   "version": "3.12.3"
  }
 },
 "nbformat": 4,
 "nbformat_minor": 4
}
