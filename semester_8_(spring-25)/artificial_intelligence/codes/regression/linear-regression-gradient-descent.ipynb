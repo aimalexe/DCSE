{
    "cells": [
        {
            "cell_type": "markdown",
            "metadata": {},
            "source": [
                "# Implementing Linear Regression from Scratch and Using Scikit-Learn\n",
                "This notebook covers **two approaches** to implementing Linear Regression:\n",
                "1. **From Scratch** (Using Gradient Descent)\n",
                "2. **Using Scikit-Learn** (Prebuilt Model)\n",
                "\n",
                "## About the Author\n",
                "This notebook was created by **Aimal Khan**."
            ]
        },
        {
            "cell_type": "markdown",
            "metadata": {},
            "source": [
                "### Step 1: Import Required Libraries"
            ]
        },
        {
            "cell_type": "code",
            "execution_count": 1,
            "metadata": {},
            "outputs": [],
            "source": [
                "import numpy as np\n",
                "import matplotlib.pyplot as plt\n",
                "from sklearn.linear_model import LinearRegression"
            ]
        },
        {
            "cell_type": "markdown",
            "metadata": {},
            "source": [
                "### Step 2: Generate Sample Data\n",
                "We will create a small dataset where **X represents study hours** and **Y represents exam scores**."
            ]
        },
        {
            "cell_type": "code",
            "execution_count": 10,
            "metadata": {},
            "outputs": [
                {
                    "data": {
                        "text/plain": [
                            "array([[ 1],\n",
                            "       [ 2],\n",
                            "       [ 3],\n",
                            "       [ 4],\n",
                            "       [ 5],\n",
                            "       [ 6],\n",
                            "       [ 7],\n",
                            "       [ 8],\n",
                            "       [ 9],\n",
                            "       [10]])"
                        ]
                    },
                    "execution_count": 10,
                    "metadata": {},
                    "output_type": "execute_result"
                }
            ],
            "source": [
                "# Sample dataset (Hours Studied vs Exam Score)\n",
                "X = np.array([1, 2, 3, 4, 5, 6, 7, 8, 9, 10])\n",
                "Y = np.array([2, 2.8, 3.6, 4.5, 5.1, 6.0, 6.8, 7.5, 8.3, 9.0])\n",
                "\n",
                "# Convert to 2D array for easier calculations\n",
                "X = X.reshape(-1, 1)\n",
                "X"
            ]
        },
        {
            "cell_type": "markdown",
            "metadata": {},
            "source": [
                "### Step 3: Implement Gradient Descent Function\n",
                "This function will optimize the slope (**b1**) and intercept (**b0**) to minimize errors."
            ]
        },
        {
            "cell_type": "code",
            "execution_count": 23,
            "metadata": {},
            "outputs": [],
            "source": [
                "def gradient_descent(X, Y, alpha=0.001, epochs=1000):\n",
                "    \"\"\" Perform Gradient Descent for Linear Regression \"\"\"\n",
                "    b0 = 0  # Initialize intercept\n",
                "    b1 = 0  # Initialize slope\n",
                "    n = len(X)  # Number of training examples\n",
                "    \n",
                "    # Convert to numpy array for calculations\n",
                "    X = np.array(X)\n",
                "    Y = np.array(Y)\n",
                "    \n",
                "    for i in range(epochs):\n",
                "        # Compute predictions\n",
                "        Y_pred = b0 + b1 * X  # Predicted values\n",
                "        error = Y - Y_pred  # Residuals\n",
                "\n",
                "        # Compute gradients\n",
                "        db0 = (-2/n) * np.sum(error)\n",
                "        db1 = (-2/n) * np.sum(X * error)\n",
                "\n",
                "        # Check for NaN divergence\n",
                "        if np.isnan(db0) or np.isnan(db1):\n",
                "            print(f\"Gradient exploded at iteration {i}\")\n",
                "            break\n",
                "\n",
                "        # Update parameters with smaller learning rate\n",
                "        b0 -= alpha * db0\n",
                "        b1 -= alpha * db1\n",
                "        \n",
                "        # Optional: Print debugging info every 100 epochs\n",
                "        if i % 100 == 0:\n",
                "            print(f\"Iteration {i}: b0={b0:.4f}, b1={b1:.4f}\")\n",
                "\n",
                "    return b0, b1"
            ]
        },
        {
            "cell_type": "markdown",
            "metadata": {},
            "source": [
                "### Step 4: Train the Model Using Gradient Descent"
            ]
        },
        {
            "cell_type": "code",
            "execution_count": 28,
            "metadata": {},
            "outputs": [
                {
                    "name": "stdout",
                    "output_type": "stream",
                    "text": [
                        "Iteration 0: b0=0.1112, b1=0.6116\n",
                        "Iteration 100: b0=1.9987, b1=0.5115\n",
                        "Iteration 200: b0=3.2220, b1=0.3358\n",
                        "Iteration 300: b0=4.0251, b1=0.2205\n",
                        "Iteration 400: b0=4.5524, b1=0.1447\n",
                        "Iteration 500: b0=4.8985, b1=0.0950\n",
                        "Iteration 600: b0=5.1257, b1=0.0624\n",
                        "Iteration 700: b0=5.2749, b1=0.0410\n",
                        "Iteration 800: b0=5.3728, b1=0.0269\n",
                        "Iteration 900: b0=5.4371, b1=0.0177\n",
                        "Iteration 1000: b0=5.4793, b1=0.0116\n",
                        "Iteration 1100: b0=5.5070, b1=0.0076\n",
                        "Iteration 1200: b0=5.5252, b1=0.0050\n",
                        "Iteration 1300: b0=5.5372, b1=0.0033\n",
                        "Iteration 1400: b0=5.5450, b1=0.0022\n",
                        "Iteration 1500: b0=5.5502, b1=0.0014\n",
                        "Iteration 1600: b0=5.5535, b1=0.0009\n",
                        "Iteration 1700: b0=5.5558, b1=0.0006\n",
                        "Iteration 1800: b0=5.5572, b1=0.0004\n",
                        "Iteration 1900: b0=5.5582, b1=0.0003\n",
                        "Iteration 2000: b0=5.5588, b1=0.0002\n",
                        "Iteration 2100: b0=5.5592, b1=0.0001\n",
                        "Iteration 2200: b0=5.5595, b1=0.0001\n",
                        "Iteration 2300: b0=5.5597, b1=0.0000\n",
                        "Iteration 2400: b0=5.5598, b1=0.0000\n",
                        "Iteration 2500: b0=5.5599, b1=0.0000\n",
                        "Iteration 2600: b0=5.5599, b1=0.0000\n",
                        "Iteration 2700: b0=5.5599, b1=0.0000\n",
                        "Iteration 2800: b0=5.5600, b1=0.0000\n",
                        "Iteration 2900: b0=5.5600, b1=0.0000\n",
                        "Iteration 3000: b0=5.5600, b1=0.0000\n",
                        "Iteration 3100: b0=5.5600, b1=0.0000\n",
                        "Iteration 3200: b0=5.5600, b1=0.0000\n",
                        "Iteration 3300: b0=5.5600, b1=0.0000\n",
                        "Iteration 3400: b0=5.5600, b1=0.0000\n",
                        "Iteration 3500: b0=5.5600, b1=0.0000\n",
                        "Iteration 3600: b0=5.5600, b1=0.0000\n",
                        "Iteration 3700: b0=5.5600, b1=0.0000\n",
                        "Iteration 3800: b0=5.5600, b1=0.0000\n",
                        "Iteration 3900: b0=5.5600, b1=0.0000\n",
                        "Iteration 4000: b0=5.5600, b1=0.0000\n",
                        "Iteration 4100: b0=5.5600, b1=0.0000\n",
                        "Iteration 4200: b0=5.5600, b1=0.0000\n",
                        "Iteration 4300: b0=5.5600, b1=0.0000\n",
                        "Iteration 4400: b0=5.5600, b1=0.0000\n",
                        "Iteration 4500: b0=5.5600, b1=0.0000\n",
                        "Iteration 4600: b0=5.5600, b1=0.0000\n",
                        "Iteration 4700: b0=5.5600, b1=0.0000\n",
                        "Iteration 4800: b0=5.5600, b1=0.0000\n",
                        "Iteration 4900: b0=5.5600, b1=0.0000\n",
                        "Iteration 5000: b0=5.5600, b1=0.0000\n",
                        "Iteration 5100: b0=5.5600, b1=0.0000\n",
                        "Iteration 5200: b0=5.5600, b1=0.0000\n",
                        "Iteration 5300: b0=5.5600, b1=0.0000\n",
                        "Iteration 5400: b0=5.5600, b1=0.0000\n",
                        "Iteration 5500: b0=5.5600, b1=0.0000\n",
                        "Iteration 5600: b0=5.5600, b1=0.0000\n",
                        "Iteration 5700: b0=5.5600, b1=0.0000\n",
                        "Iteration 5800: b0=5.5600, b1=0.0000\n",
                        "Iteration 5900: b0=5.5600, b1=0.0000\n",
                        "Iteration 6000: b0=5.5600, b1=0.0000\n",
                        "Iteration 6100: b0=5.5600, b1=0.0000\n",
                        "Iteration 6200: b0=5.5600, b1=0.0000\n",
                        "Iteration 6300: b0=5.5600, b1=0.0000\n",
                        "Iteration 6400: b0=5.5600, b1=0.0000\n",
                        "Iteration 6500: b0=5.5600, b1=0.0000\n",
                        "Iteration 6600: b0=5.5600, b1=0.0000\n",
                        "Iteration 6700: b0=5.5600, b1=0.0000\n",
                        "Iteration 6800: b0=5.5600, b1=0.0000\n",
                        "Iteration 6900: b0=5.5600, b1=0.0000\n",
                        "Iteration 7000: b0=5.5600, b1=0.0000\n",
                        "Iteration 7100: b0=5.5600, b1=0.0000\n",
                        "Iteration 7200: b0=5.5600, b1=0.0000\n",
                        "Iteration 7300: b0=5.5600, b1=0.0000\n",
                        "Iteration 7400: b0=5.5600, b1=0.0000\n",
                        "Iteration 7500: b0=5.5600, b1=0.0000\n",
                        "Iteration 7600: b0=5.5600, b1=0.0000\n",
                        "Iteration 7700: b0=5.5600, b1=0.0000\n",
                        "Iteration 7800: b0=5.5600, b1=0.0000\n",
                        "Iteration 7900: b0=5.5600, b1=0.0000\n",
                        "Iteration 8000: b0=5.5600, b1=0.0000\n",
                        "Iteration 8100: b0=5.5600, b1=0.0000\n",
                        "Iteration 8200: b0=5.5600, b1=0.0000\n",
                        "Iteration 8300: b0=5.5600, b1=0.0000\n",
                        "Iteration 8400: b0=5.5600, b1=0.0000\n",
                        "Iteration 8500: b0=5.5600, b1=0.0000\n",
                        "Iteration 8600: b0=5.5600, b1=0.0000\n",
                        "Iteration 8700: b0=5.5600, b1=0.0000\n",
                        "Iteration 8800: b0=5.5600, b1=0.0000\n",
                        "Iteration 8900: b0=5.5600, b1=0.0000\n",
                        "Iteration 9000: b0=5.5600, b1=0.0000\n",
                        "Iteration 9100: b0=5.5600, b1=0.0000\n",
                        "Iteration 9200: b0=5.5600, b1=0.0000\n",
                        "Iteration 9300: b0=5.5600, b1=0.0000\n",
                        "Iteration 9400: b0=5.5600, b1=0.0000\n",
                        "Iteration 9500: b0=5.5600, b1=0.0000\n",
                        "Iteration 9600: b0=5.5600, b1=0.0000\n",
                        "Iteration 9700: b0=5.5600, b1=0.0000\n",
                        "Iteration 9800: b0=5.5600, b1=0.0000\n",
                        "Iteration 9900: b0=5.5600, b1=0.0000\n",
                        "Optimized Intercept (b0): 5.5600\n",
                        "Optimized Slope (b1): 0.0000\n"
                    ]
                }
            ],
            "source": [
                "# Train model using gradient descent\n",
                "b0, b1 = gradient_descent(X, Y, alpha=0.001, epochs=1000)\n",
                "\n",
                "print(f\"Optimized Intercept (b0): {b0:.4f}\")\n",
                "print(f\"Optimized Slope (b1): {b1:.4f}\")"
            ]
        },
        {
            "cell_type": "markdown",
            "metadata": {},
            "source": [
                "### Step 5: Make Predictions with the Gradient Descent Model"
            ]
        },
        {
            "cell_type": "code",
            "execution_count": 29,
            "metadata": {},
            "outputs": [
                {
                    "name": "stdout",
                    "output_type": "stream",
                    "text": [
                        "Predicted values: [[5.56]\n",
                        " [5.56]\n",
                        " [5.56]]\n"
                    ]
                }
            ],
            "source": [
                "# Predict new values\n",
                "X_test = np.array([11, 12, 13]).reshape(-1, 1)\n",
                "Y_pred = b0 + b1 * X_test\n",
                "\n",
                "print(\"Predicted values:\", Y_pred)"
            ]
        },
        {
            "cell_type": "markdown",
            "metadata": {},
            "source": [
                "### Step 6: Visualize the Regression Line"
            ]
        },
        {
            "cell_type": "code",
            "execution_count": 30,
            "metadata": {},
            "outputs": [
                {
                    "data": {
                        "image/png": "[encoded data removed]",
                        "text/plain": [
                            "<Figure size 640x480 with 1 Axes>"
                        ]
                    },
                    "metadata": {},
                    "output_type": "display_data"
                }
            ],
            "source": [
                "plt.scatter(X, Y, color='blue', label=\"Actual Data\")\n",
                "plt.plot(X, b0 + b1 * X, color='red', label=\"Regression Line\")\n",
                "plt.xlabel(\"Hours Studied\")\n",
                "plt.ylabel(\"Exam Score\")\n",
                "plt.legend()\n",
                "plt.show()"
            ]
        },
        {
            "cell_type": "markdown",
            "metadata": {},
            "source": [
                "# Implementing Linear Regression Using Scikit-Learn"
            ]
        },
        {
            "cell_type": "markdown",
            "metadata": {},
            "source": [
                "### Step 1: Train Model Using Scikit-Learn"
            ]
        },
        {
            "cell_type": "code",
            "execution_count": 31,
            "metadata": {},
            "outputs": [
                {
                    "name": "stdout",
                    "output_type": "stream",
                    "text": [
                        "Intercept (b0): 1.2667\n",
                        "Slope (b1): 0.7806\n"
                    ]
                }
            ],
            "source": [
                "model = LinearRegression()\n",
                "model.fit(X, Y)\n",
                "\n",
                "print(f\"Intercept (b0): {model.intercept_:.4f}\")\n",
                "print(f\"Slope (b1): {model.coef_[0]:.4f}\")"
            ]
        },
        {
            "cell_type": "markdown",
            "metadata": {},
            "source": [
                "### Step 2: Make Predictions Using Scikit-Learn Model"
            ]
        },
        {
            "cell_type": "code",
            "execution_count": 32,
            "metadata": {},
            "outputs": [
                {
                    "name": "stdout",
                    "output_type": "stream",
                    "text": [
                        "Predicted values: [ 9.85333333 10.63393939 11.41454545]\n"
                    ]
                }
            ],
            "source": [
                "X_test = np.array([[11], [12], [13]])\n",
                "Y_pred_sklearn = model.predict(X_test)\n",
                "\n",
                "print(\"Predicted values:\", Y_pred_sklearn)"
            ]
        },
        {
            "cell_type": "markdown",
            "metadata": {},
            "source": [
                "### Step 3: Visualize Regression Line (Scikit-Learn)"
            ]
        },
        {
            "cell_type": "code",
            "execution_count": 34,
            "metadata": {},
            "outputs": [
                {
                    "data": {
                        "image/png": "[encoded data removed]",
                        "text/plain": [
                            "<Figure size 640x480 with 1 Axes>"
                        ]
                    },
                    "metadata": {},
                    "output_type": "display_data"
                }
            ],
            "source": [
                "plt.scatter(X, Y, color='turquoise', label=\"Actual Data\")\n",
                "plt.plot(X, model.predict(X), color='firebrick', label=\"Regression Line\")\n",
                "plt.xlabel(\"Hours Studied\")\n",
                "plt.ylabel(\"Exam Score\")\n",
                "plt.legend()\n",
                "plt.show()"
            ]
        }
    ],
    "metadata": {
        "kernelspec": {
            "display_name": "Python 3",
            "language": "python",
            "name": "python3"
        },
        "language_info": {
            "codemirror_mode": {
                "name": "ipython",
                "version": 3
            },
            "file_extension": ".py",
            "mimetype": "text/x-python",
            "name": "python",
            "nbconvert_exporter": "python",
            "pygments_lexer": "ipython3",
            "version": "3.12.3"
        }
    },
    "nbformat": 4,
    "nbformat_minor": 4
}
